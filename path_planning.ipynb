{
 "cells": [
  {
   "cell_type": "code",
   "execution_count": 1,
   "id": "01a64de6-13c4-4e2a-924e-d1261891839f",
   "metadata": {},
   "outputs": [],
   "source": [
    "import matplotlib.pyplot as plt\n",
    "import numpy as np\n",
    "\n",
    "%matplotlib inline\n",
    "\n",
    "DEBUG = False"
   ]
  },
  {
   "cell_type": "code",
   "execution_count": 2,
   "id": "3201d7c1-6780-4399-b684-e25e1b916e98",
   "metadata": {},
   "outputs": [
    {
     "name": "stdout",
     "output_type": "stream",
     "text": [
      "[[0 0 0 0 0 0 0 0 0]\n",
      " [0 0 0 0 0 0 0 1 1]\n",
      " [0 0 0 0 0 0 1 0 0]\n",
      " [0 0 1 0 0 0 0 1 0]\n",
      " [0 0 0 0 0 0 0 0 0]\n",
      " [0 0 1 0 0 1 0 0 0]\n",
      " [0 0 1 1 0 1 0 1 0]\n",
      " [1 0 1 0 0 0 0 0 1]\n",
      " [0 0 1 0 1 0 1 1 1]]\n"
     ]
    }
   ],
   "source": [
    "def generate_map(w, h, seed=3):\n",
    "    n = 1\n",
    "    p = 0.25\n",
    "    N = w * h\n",
    "    return np.random.binomial(n, p, N).reshape(w, h)\n",
    "\n",
    "grid = generate_map(9, 9)\n",
    "print(grid)\n",
    "\n",
    "def randomly_pick_start_loc(grid, seed):\n",
    "    np.random.seed(seed)\n",
    "    x, y = np.random.randint(0, w, 1)[0], np.random.randint(0, h, 1)[0]\n",
    "    while grid[y, x] == 1:\n",
    "        x, y = np.random.randint(0, w, 1)[0], np.random.randint(0, h, 1)[0]\n",
    "    return np.array([y, x]).flatten()"
   ]
  },
  {
   "cell_type": "code",
   "execution_count": 3,
   "id": "79d40616-33df-4101-805b-a6964047b25f",
   "metadata": {},
   "outputs": [
    {
     "name": "stdout",
     "output_type": "stream",
     "text": [
      "Stack recursion limit:  3000\n",
      "Stack recursion limit:  15000\n"
     ]
    }
   ],
   "source": [
    "def is_out_of_bounds(grid_shape, y, x):\n",
    "    return x < 0 or x > grid_shape[1] - 1 or y < 0 or y > grid_shape[0] - 1\n",
    "\n",
    "# Note: Be careful of Tail Recursion Elimination\n",
    "import sys\n",
    "recursion_limit = sys.getrecursionlimit()\n",
    "print('Stack recursion limit: ', recursion_limit)\n",
    "LIMIT = 15000\n",
    "if recursion_limit < LIMIT:\n",
    "    sys.setrecursionlimit(LIMIT)\n",
    "print('Stack recursion limit: ', sys.getrecursionlimit())\n",
    "   \n",
    "# TODO\n",
    "def bfs(grid, start_loc, end_loc, trajectories, idx):\n",
    "    if np.equal(start_loc, end_loc).all():\n",
    "        trajectories[idx].append(end_loc)\n",
    "        return trajectory\n",
    "    \n",
    "    directions = [\n",
    "        [start_loc[1], start_loc[1] - 1],\n",
    "        [start_loc[1], start_loc[1] + 1],\n",
    "        [start_loc[1] - 1, start_loc[1]],\n",
    "        [start_loc[1] + 1, start_loc[1]],\n",
    "    ]\n",
    "    \n",
    "    for idx in range(len(directions)):\n",
    "        if directions[idx] not in trajectories[idx] and not is_out_of_bounds(grid.shape, directions[idx][0], directions[idx][1]) and grid[directions[idx][0], directions[idx][1]] == 0:\n",
    "            trajectories[idx].append(directions[idx])\n",
    "            trajectories[idx] = backtrack(grid, directions[idx], end_loc, trajectories, idx)\n",
    "    \n",
    "    return trajectory\n",
    "\n",
    "def dfs(grid, start_loc, end_loc, trajectory):\n",
    "    if np.equal(start_loc, end_loc).all():\n",
    "        trajectory.append(end_loc)\n",
    "        return trajectory\n",
    "    \n",
    "    left = [start_loc[0], start_loc[1] - 1]\n",
    "    if left not in trajectory and not is_out_of_bounds(grid.shape, left[0], left[1]) and grid[left[0], left[1]] == 0:\n",
    "        if DEBUG:\n",
    "            print('go left')\n",
    "        trajectory.append(left)\n",
    "        trajectory = dfs(grid, left, end_loc, trajectory)\n",
    "    \n",
    "    right = [start_loc[0], start_loc[1] + 1]\n",
    "    if right not in trajectory and not is_out_of_bounds(grid.shape, right[0], right[1]) and grid[right[0], right[1]] == 0:\n",
    "        if DEBUG:\n",
    "            print('go right')\n",
    "        trajectory.append(right)\n",
    "        trajectory = dfs(grid, right, end_loc, trajectory)\n",
    "    \n",
    "    up = [start_loc[0] - 1, start_loc[1]]\n",
    "    if up not in trajectory and not is_out_of_bounds(grid.shape, up[0], up[1]) and grid[up[0], up[1]] == 0:\n",
    "        if DEBUG:\n",
    "            print('go up')\n",
    "        trajectory.append(up)\n",
    "        trajectory = dfs(grid, up, end_loc, trajectory)\n",
    "    \n",
    "    down = [start_loc[0] + 1, start_loc[1]]\n",
    "    if down not in trajectory and not is_out_of_bounds(grid.shape, down[0], down[1]) and grid[down[0], down[1]] == 0:\n",
    "        if DEBUG:\n",
    "            print('go down')\n",
    "        trajectory.append(down)\n",
    "        trajectory = dfs(grid, down, end_loc, trajectory)\n",
    "        \n",
    "    return trajectory\n",
    "    \n",
    "\n",
    "def plan_path(grid, start_loc, end_loc, ftype='dfs'):\n",
    "    ''' Find path trajectory from start_loc to end_loc. '''\n",
    "    if ftype == 'bfs':\n",
    "        trajectory = [\n",
    "            [start_loc],\n",
    "            [start_loc],\n",
    "            [start_loc],\n",
    "            [start_loc]\n",
    "        ]\n",
    "        return bfs(grid, start_loc, end_loc, trajectory, 0)\n",
    "    elif ftype == 'dfs':\n",
    "        trajectory = [start_loc]\n",
    "        return dfs(grid, start_loc, end_loc, trajectory)\n",
    "    elif ftype == 'Dijkstra':\n",
    "        #TODO\n",
    "        raise NotImplementedError\n",
    "    elif ftype == 'A*':\n",
    "        #TODO\n",
    "        raise NotImplementedError\n",
    "    elif ftype == 'RL':\n",
    "        # TODO\n",
    "        raise NotImplementedError\n",
    "    else:\n",
    "        raise('More functions to come')"
   ]
  },
  {
   "cell_type": "code",
   "execution_count": 4,
   "id": "5a40ffcc-efaf-4556-91c6-c24c33a99cb2",
   "metadata": {},
   "outputs": [
    {
     "name": "stdout",
     "output_type": "stream",
     "text": [
      "[[0 0 0 0 0]\n",
      " [1 0 1 1 0]\n",
      " [1 1 0 0 0]\n",
      " [0 0 0 0 0]\n",
      " [0 0 1 0 1]]\n",
      "Find path from [4, 3] to [0, 2]:\n",
      "\n",
      "[[4, 3], [3, 3], [3, 2], [3, 1], [3, 0], [4, 0], [4, 1], [2, 2], [2, 3], [2, 4], [1, 4], [0, 4], [0, 3], [0, 2], [0, 2], [3, 4]]\n"
     ]
    },
    {
     "data": {
      "text/plain": [
       "[<matplotlib.lines.Line2D at 0x7feeb4014f70>]"
      ]
     },
     "execution_count": 4,
     "metadata": {},
     "output_type": "execute_result"
    },
    {
     "data": {
      "image/png": "[encoded data removed]",
      "text/plain": [
       "<Figure size 432x288 with 1 Axes>"
      ]
     },
     "metadata": {
      "needs_background": "light"
     },
     "output_type": "display_data"
    }
   ],
   "source": [
    "w, h = 5, 5\n",
    "#grid = generate_map(w, h)\n",
    "grid = np.array([\n",
    "    [0, 0, 0, 0, 0],\n",
    "    [1, 0, 1, 1, 0],\n",
    "    [1, 1, 0, 0, 0],\n",
    "    [0, 0, 0, 0, 0],\n",
    "    [0, 0, 1, 0, 1]])\n",
    "print(grid)\n",
    "start_loc = [4, 3]#list(randomly_pick_start_loc(grid, 1))\n",
    "end_loc = [0, 2]#list(randomly_pick_start_loc(grid, 3))\n",
    "print(f'Find path from {start_loc} to {end_loc}:\\n')\n",
    "\n",
    "plt.title('World map')\n",
    "plt.imshow(grid, cmap='binary')\n",
    "\n",
    "trajectory = plan_path(grid, start_loc, end_loc, 'dfs')\n",
    "print(trajectory)\n",
    "[ plt.plot(coord[1], coord[0], 'r*') for coord in trajectory ]\n",
    "\n",
    "plt.plot(start_loc[1], start_loc[0], 'g*')\n",
    "plt.plot(end_loc[1], end_loc[0], \"b*\")"
   ]
  },
  {
   "cell_type": "code",
   "execution_count": null,
   "id": "4f9035df-59fc-448d-ab5c-844b3342916d",
   "metadata": {},
   "outputs": [],
   "source": []
  },
  {
   "cell_type": "code",
   "execution_count": null,
   "id": "29af70dd-046a-485f-ba1c-55641e429577",
   "metadata": {},
   "outputs": [],
   "source": []
  }
 ],
 "metadata": {
  "kernelspec": {
   "display_name": "Python 3",
   "language": "python",
   "name": "python3"
  },
  "language_info": {
   "codemirror_mode": {
    "name": "ipython",
    "version": 3
   },
   "file_extension": ".py",
   "mimetype": "text/x-python",
   "name": "python",
   "nbconvert_exporter": "python",
   "pygments_lexer": "ipython3",
   "version": "3.9.7"
  }
 },
 "nbformat": 4,
 "nbformat_minor": 5
}
